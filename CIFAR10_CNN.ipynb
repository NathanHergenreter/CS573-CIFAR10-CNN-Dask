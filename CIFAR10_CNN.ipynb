{
 "cells": [
  {
   "cell_type": "code",
   "execution_count": 34,
   "id": "c59f8ea8",
   "metadata": {},
   "outputs": [],
   "source": [
    "from os.path import exists\n",
    "\n",
    "from matplotlib import pyplot\n",
    "from keras.datasets import cifar10\n",
    "from keras.models import load_model\n",
    "from keras.models import Sequential\n",
    "from keras.layers import Conv2D\n",
    "from keras.layers import MaxPooling2D\n",
    "from keras.layers import Dense\n",
    "from keras.layers import Flatten\n",
    "from tensorflow.keras.utils import to_categorical\n",
    "from tensorflow.keras.optimizers import SGD"
   ]
  },
  {
   "cell_type": "code",
   "execution_count": 30,
   "id": "6b68c173",
   "metadata": {},
   "outputs": [],
   "source": [
    "class cifar10_cnn:\n",
    "    \n",
    "    def __init__(self):\n",
    "        self.modelFilename = 'cnn_model.h5'\n",
    "        self.model = None\n",
    "        \n",
    "    def load_dataset():\n",
    "        (trainX, trainY), (testX, testY) = cifar10.load_data()\n",
    "\n",
    "        # One-Hot encoding\n",
    "        trainY = to_categorical(trainY)\n",
    "        testY = to_categorical(testY)\n",
    "\n",
    "        return trainX, trainY, testX, testY\n",
    "    \n",
    "    def prep_pixels(train, test):\n",
    "        train_norm = train.astype('float32')\n",
    "        test_norm = test.astype('float32')\n",
    "\n",
    "        # Normalize to range 0-1\n",
    "        train_norm = train_norm / 255.0\n",
    "        test_norm = test_norm / 255.0\n",
    "\n",
    "        return train_norm, test_norm\n",
    "    \n",
    "    def define_model(self):\n",
    "        self.model = Sequential()\n",
    "\n",
    "        self.model.add(Conv2D(32, (3, 3), activation='relu', kernel_initializer='he_uniform', padding='same', input_shape=(32, 32, 3)))\n",
    "        self.model.add(Conv2D(32, (3, 3), activation='relu', kernel_initializer='he_uniform', padding='same'))\n",
    "        self.model.add(MaxPooling2D((2, 2)))\n",
    "        self.model.add(Conv2D(64, (3, 3), activation='relu', kernel_initializer='he_uniform', padding='same'))\n",
    "        self.model.add(Conv2D(64, (3, 3), activation='relu', kernel_initializer='he_uniform', padding='same'))\n",
    "        self.model.add(MaxPooling2D((2, 2)))\n",
    "        self.model.add(Conv2D(128, (3, 3), activation='relu', kernel_initializer='he_uniform', padding='same'))\n",
    "        self.model.add(Conv2D(128, (3, 3), activation='relu', kernel_initializer='he_uniform', padding='same'))\n",
    "        self.model.add(MaxPooling2D((2, 2)))\n",
    "        self.model.add(Flatten())\n",
    "        self.model.add(Dense(128, activation='relu', kernel_initializer='he_uniform'))\n",
    "        self.model.add(Dense(10, activation='softmax'))\n",
    "\n",
    "        opt = SGD(lr=0.001, momentum=0.9)\n",
    "        self.model.compile(optimizer=opt, loss='categorical_crossentropy', metrics=['accuracy'])\n",
    "    \n",
    "    def load_model_from_file(self):\n",
    "        if exists(self.modelFilename):\n",
    "            self.model = load_model(self.modelFilename)\n",
    "    \n",
    "    def run_test_harness(self):\n",
    "        trainX, trainY, testX, testY = load_dataset()\n",
    "        trainX, testX = prep_pixels(trainX, testX)\n",
    "\n",
    "        # Initialize model if none\n",
    "        self.load_model_from_file()\n",
    "        if self.model == None:\n",
    "            self.define_model()\n",
    "        \n",
    "        self.model.fit(trainX, trainY, epochs=100, batch_size=64, verbose=0)\n",
    "        self.model.save('cnn_model.h5')"
   ]
  },
  {
   "cell_type": "code",
   "execution_count": 35,
   "id": "17cc11e3",
   "metadata": {},
   "outputs": [
    {
     "name": "stderr",
     "output_type": "stream",
     "text": [
      "C:\\Users\\megal\\Anaconda3\\lib\\site-packages\\keras\\optimizer_v2\\gradient_descent.py:102: UserWarning: The `lr` argument is deprecated, use `learning_rate` instead.\n",
      "  super(SGD, self).__init__(name, **kwargs)\n"
     ]
    }
   ],
   "source": [
    "model = cifar10_cnn()\n",
    "model.run_test_harness()\n",
    "\n",
    "# 6 hours"
   ]
  }
 ],
 "metadata": {
  "kernelspec": {
   "display_name": "Python 3 (ipykernel)",
   "language": "python",
   "name": "python3"
  },
  "language_info": {
   "codemirror_mode": {
    "name": "ipython",
    "version": 3
   },
   "file_extension": ".py",
   "mimetype": "text/x-python",
   "name": "python",
   "nbconvert_exporter": "python",
   "pygments_lexer": "ipython3",
   "version": "3.7.3"
  }
 },
 "nbformat": 4,
 "nbformat_minor": 5
}
